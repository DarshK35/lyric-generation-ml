{
 "cells": [
  {
   "cell_type": "markdown",
   "metadata": {},
   "source": [
    "# Matching Lyrics with Songs\n",
    "\n",
    "This component matches generated lyrics with songs whose MIDI we will have access to. We will be using the lakh pianoroll dataset for the MIDI files.\n",
    "\n",
    "## Importing Libraries"
   ]
  },
  {
   "cell_type": "code",
   "execution_count": 1,
   "metadata": {},
   "outputs": [],
   "source": [
    "import csv\n",
    "import pickle\n",
    "import pandas as pd\n",
    "\n",
    "from langdetect import detect\n",
    "from sentence_transformers import SentenceTransformer\n",
    "from sklearn.metrics.pairwise import cosine_similarity"
   ]
  },
  {
   "cell_type": "markdown",
   "metadata": {},
   "source": [
    "## Importing and Preparing Dataset"
   ]
  },
  {
   "cell_type": "code",
   "execution_count": 2,
   "metadata": {},
   "outputs": [
    {
     "name": "stdout",
     "output_type": "stream",
     "text": [
      "(12447, 4)\n"
     ]
    },
    {
     "data": {
      "text/html": [
       "<div>\n",
       "<style scoped>\n",
       "    .dataframe tbody tr th:only-of-type {\n",
       "        vertical-align: middle;\n",
       "    }\n",
       "\n",
       "    .dataframe tbody tr th {\n",
       "        vertical-align: top;\n",
       "    }\n",
       "\n",
       "    .dataframe thead th {\n",
       "        text-align: right;\n",
       "    }\n",
       "</style>\n",
       "<table border=\"1\" class=\"dataframe\">\n",
       "  <thead>\n",
       "    <tr style=\"text-align: right;\">\n",
       "      <th></th>\n",
       "      <th>track_id</th>\n",
       "      <th>title</th>\n",
       "      <th>artist_name</th>\n",
       "      <th>Lyrics</th>\n",
       "    </tr>\n",
       "  </thead>\n",
       "  <tbody>\n",
       "    <tr>\n",
       "      <th>0</th>\n",
       "      <td>TRMMMQN128F4238509</td>\n",
       "      <td>Raspberry Beret (LP Version)</td>\n",
       "      <td>Prince &amp; The Revolution</td>\n",
       "      <td>One, two\\nOne, two, three, uh\\n\\nYeah\\n\\nI was...</td>\n",
       "    </tr>\n",
       "    <tr>\n",
       "      <th>1</th>\n",
       "      <td>TRMMWTG128F4283F07</td>\n",
       "      <td>You Needed Me</td>\n",
       "      <td>Roger Whittaker</td>\n",
       "      <td>I cried a tear: you wiped it dry.\\nI was confu...</td>\n",
       "    </tr>\n",
       "    <tr>\n",
       "      <th>2</th>\n",
       "      <td>TRMMZRE128F42B799E</td>\n",
       "      <td>Sauver L'Amour</td>\n",
       "      <td>Daniel Balavoine</td>\n",
       "      <td>Partir effacer sur le Gange\\nLa douleur\\nPouvo...</td>\n",
       "    </tr>\n",
       "    <tr>\n",
       "      <th>3</th>\n",
       "      <td>TRMMZOT128F149E9EE</td>\n",
       "      <td>Prayee</td>\n",
       "      <td>The Chantels</td>\n",
       "      <td>NaN</td>\n",
       "    </tr>\n",
       "    <tr>\n",
       "      <th>4</th>\n",
       "      <td>TRMMIZZ128F4289298</td>\n",
       "      <td>It Keep Rainin' (Tears From My Eyes) (Radio Edit)</td>\n",
       "      <td>Bitty McLean</td>\n",
       "      <td>Pretty fallin' tears shining (Yes)\\n(What's th...</td>\n",
       "    </tr>\n",
       "  </tbody>\n",
       "</table>\n",
       "</div>"
      ],
      "text/plain": [
       "             track_id                                              title  \\\n",
       "0  TRMMMQN128F4238509                       Raspberry Beret (LP Version)   \n",
       "1  TRMMWTG128F4283F07                                      You Needed Me   \n",
       "2  TRMMZRE128F42B799E                                     Sauver L'Amour   \n",
       "3  TRMMZOT128F149E9EE                                             Prayee   \n",
       "4  TRMMIZZ128F4289298  It Keep Rainin' (Tears From My Eyes) (Radio Edit)   \n",
       "\n",
       "               artist_name                                             Lyrics  \n",
       "0  Prince & The Revolution  One, two\\nOne, two, three, uh\\n\\nYeah\\n\\nI was...  \n",
       "1          Roger Whittaker  I cried a tear: you wiped it dry.\\nI was confu...  \n",
       "2         Daniel Balavoine  Partir effacer sur le Gange\\nLa douleur\\nPouvo...  \n",
       "3             The Chantels                                                NaN  \n",
       "4             Bitty McLean  Pretty fallin' tears shining (Yes)\\n(What's th...  "
      ]
     },
     "execution_count": 2,
     "metadata": {},
     "output_type": "execute_result"
    }
   ],
   "source": [
    "origData = pd.read_csv(\"../matched_lyrics.csv\")\n",
    "print(origData.shape)\n",
    "origData.head()"
   ]
  },
  {
   "cell_type": "code",
   "execution_count": 3,
   "metadata": {},
   "outputs": [],
   "source": [
    "origData.dropna(axis = 0, inplace = True)"
   ]
  },
  {
   "cell_type": "code",
   "execution_count": 4,
   "metadata": {},
   "outputs": [
    {
     "data": {
      "text/plain": [
       "12029"
      ]
     },
     "execution_count": 4,
     "metadata": {},
     "output_type": "execute_result"
    }
   ],
   "source": [
    "lyricList = origData.Lyrics.values.tolist()\n",
    "trackList = origData.track_id.values.tolist()\n",
    "len(lyricList)"
   ]
  },
  {
   "cell_type": "code",
   "execution_count": 5,
   "metadata": {},
   "outputs": [
    {
     "data": {
      "text/plain": [
       "9792"
      ]
     },
     "execution_count": 5,
     "metadata": {},
     "output_type": "execute_result"
    }
   ],
   "source": [
    "finalLyricList = []\n",
    "finalTrackList = []\n",
    "\n",
    "for i in range(len(lyricList)):\n",
    "\ttry:\n",
    "\t\tif(detect(lyricList[i]) == \"en\"):\n",
    "\t\t\tl = lyricList[i].replace(\"\\n\", \"\")\n",
    "\t\t\tl = l.replace(\"******* This Lyrics is NOT for Commercial use *******\", \"\")\n",
    "\t\t\tfinalLyricList.append(l)\n",
    "\t\t\tfinalTrackList.append(trackList[i])\n",
    "\texcept:\n",
    "\t\tcontinue\n",
    "\n",
    "len(finalLyricList)"
   ]
  },
  {
   "cell_type": "markdown",
   "metadata": {},
   "source": [
    "## Generating Embeddings\n",
    "\n",
    "We will be using a huggingface pretrained S-BERT model to generate the embeddings"
   ]
  },
  {
   "cell_type": "code",
   "execution_count": 6,
   "metadata": {},
   "outputs": [],
   "source": [
    "transformer = SentenceTransformer(\"bert-base-nli-mean-tokens\")"
   ]
  },
  {
   "cell_type": "code",
   "execution_count": 7,
   "metadata": {},
   "outputs": [],
   "source": [
    "embeds = []\n",
    "for i in finalLyricList:\n",
    "\te = transformer.encode(i)\n",
    "\tembeds.append(e)"
   ]
  },
  {
   "cell_type": "markdown",
   "metadata": {},
   "source": [
    "Storing the sentences and embeddings to directory"
   ]
  },
  {
   "cell_type": "code",
   "execution_count": 8,
   "metadata": {},
   "outputs": [],
   "source": [
    "with open(\"../embeddings.pickle\", \"wb\") as file:\n",
    "\tpickle.dump(\n",
    "\t\t{\n",
    "\t\t\t\"sentences\": finalLyricList[:10],\n",
    "\t\t\t\"embeddings\": embeds\n",
    "\t\t},\n",
    "\t\tfile,\n",
    "\t\tprotocol = pickle.HIGHEST_PROTOCOL\n",
    "\t)"
   ]
  },
  {
   "cell_type": "markdown",
   "metadata": {},
   "source": [
    "## Matching Embeddings to Similar Songs\n",
    "\n",
    "Using one of the generations from Lyrics Generation component"
   ]
  },
  {
   "cell_type": "code",
   "execution_count": 9,
   "metadata": {},
   "outputs": [],
   "source": [
    "songLyric = \"Late to bed, early to rise of my head down all the things that you thought of me ohhhohhohoh and you could change my pride is broken my pride is a face of my mind it's like a child in the sand that i could be with i was lost i can't take back i can't stop to let the sound with the hands of my hands when i was wrong tell me tell me tell me tell me i'm forgiven and it's only so fly\""
   ]
  },
  {
   "cell_type": "code",
   "execution_count": 10,
   "metadata": {},
   "outputs": [
    {
     "data": {
      "text/plain": [
       "(1, 9792)"
      ]
     },
     "execution_count": 10,
     "metadata": {},
     "output_type": "execute_result"
    }
   ],
   "source": [
    "token = transformer.encode(songLyric)\n",
    "sim = cosine_similarity([token], embeds)\n",
    "sim.shape"
   ]
  },
  {
   "cell_type": "markdown",
   "metadata": {},
   "source": [
    "Output of this code is a similarity score of given song compared with each song in the embeds.\n",
    "\n",
    "Writing tracklist to csv file for easier retrieval"
   ]
  },
  {
   "cell_type": "code",
   "execution_count": 11,
   "metadata": {},
   "outputs": [],
   "source": [
    "with open(\"../trackList.csv\", \"w\", newline = \"\") as file:\n",
    "\twr = csv.writer(file, quoting = csv.QUOTE_ALL)\n",
    "\twr.writerow(finalTrackList)"
   ]
  }
 ],
 "metadata": {
  "kernelspec": {
   "display_name": "tf",
   "language": "python",
   "name": "python3"
  },
  "language_info": {
   "codemirror_mode": {
    "name": "ipython",
    "version": 3
   },
   "file_extension": ".py",
   "mimetype": "text/x-python",
   "name": "python",
   "nbconvert_exporter": "python",
   "pygments_lexer": "ipython3",
   "version": "3.10.13"
  }
 },
 "nbformat": 4,
 "nbformat_minor": 2
}
