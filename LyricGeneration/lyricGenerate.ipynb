{
 "cells": [
  {
   "cell_type": "markdown",
   "metadata": {},
   "source": [
    "# Generating Lyrics using LSTM\n",
    "\n",
    "## Importing Libraries"
   ]
  },
  {
   "cell_type": "code",
   "execution_count": 1,
   "metadata": {},
   "outputs": [
    {
     "name": "stderr",
     "output_type": "stream",
     "text": [
      "2023-11-21 14:55:28.284378: E tensorflow/compiler/xla/stream_executor/cuda/cuda_dnn.cc:9342] Unable to register cuDNN factory: Attempting to register factory for plugin cuDNN when one has already been registered\n",
      "2023-11-21 14:55:28.284416: E tensorflow/compiler/xla/stream_executor/cuda/cuda_fft.cc:609] Unable to register cuFFT factory: Attempting to register factory for plugin cuFFT when one has already been registered\n",
      "2023-11-21 14:55:28.285279: E tensorflow/compiler/xla/stream_executor/cuda/cuda_blas.cc:1518] Unable to register cuBLAS factory: Attempting to register factory for plugin cuBLAS when one has already been registered\n",
      "2023-11-21 14:55:28.365457: I tensorflow/core/platform/cpu_feature_guard.cc:182] This TensorFlow binary is optimized to use available CPU instructions in performance-critical operations.\n",
      "To enable the following instructions: AVX2 FMA, in other operations, rebuild TensorFlow with the appropriate compiler flags.\n"
     ]
    }
   ],
   "source": [
    "import gc\n",
    "import numpy as np\n",
    "import pandas as pd\n",
    "\n",
    "import seaborn as sns\n",
    "from matplotlib import pyplot as plt\n",
    "from wordcloud import WordCloud, STOPWORDS, ImageColorGenerator\n",
    "\n",
    "from keras.utils import to_categorical\n",
    "from keras.preprocessing.sequence import pad_sequences\n",
    "from keras.layers import Embedding, Dropout, LSTM, Dense, Bidirectional \n",
    "from keras.preprocessing.text import Tokenizer\n",
    "from keras.callbacks import EarlyStopping\n",
    "from keras.models import Sequential\n",
    "from gensim.models import Word2Vec\n",
    "\n",
    "from keras.callbacks import ModelCheckpoint\n",
    "\n",
    "from keras.models import load_model\n",
    "import pickle"
   ]
  },
  {
   "cell_type": "markdown",
   "metadata": {},
   "source": [
    "## Import and Process Dataset"
   ]
  },
  {
   "cell_type": "code",
   "execution_count": 2,
   "metadata": {},
   "outputs": [
    {
     "name": "stdout",
     "output_type": "stream",
     "text": [
      "(379931, 5)\n"
     ]
    },
    {
     "data": {
      "text/html": [
       "<div>\n",
       "<style scoped>\n",
       "    .dataframe tbody tr th:only-of-type {\n",
       "        vertical-align: middle;\n",
       "    }\n",
       "\n",
       "    .dataframe tbody tr th {\n",
       "        vertical-align: top;\n",
       "    }\n",
       "\n",
       "    .dataframe thead th {\n",
       "        text-align: right;\n",
       "    }\n",
       "</style>\n",
       "<table border=\"1\" class=\"dataframe\">\n",
       "  <thead>\n",
       "    <tr style=\"text-align: right;\">\n",
       "      <th></th>\n",
       "      <th>ALink</th>\n",
       "      <th>SName</th>\n",
       "      <th>SLink</th>\n",
       "      <th>Lyric</th>\n",
       "      <th>language</th>\n",
       "    </tr>\n",
       "  </thead>\n",
       "  <tbody>\n",
       "    <tr>\n",
       "      <th>0</th>\n",
       "      <td>/ivete-sangalo/</td>\n",
       "      <td>Arerê</td>\n",
       "      <td>/ivete-sangalo/arere.html</td>\n",
       "      <td>Tudo o que eu quero nessa vida,\\nToda vida, é\\...</td>\n",
       "      <td>pt</td>\n",
       "    </tr>\n",
       "    <tr>\n",
       "      <th>1</th>\n",
       "      <td>/ivete-sangalo/</td>\n",
       "      <td>Se Eu Não Te Amasse Tanto Assim</td>\n",
       "      <td>/ivete-sangalo/se-eu-nao-te-amasse-tanto-assim...</td>\n",
       "      <td>Meu coração\\nSem direção\\nVoando só por voar\\n...</td>\n",
       "      <td>pt</td>\n",
       "    </tr>\n",
       "    <tr>\n",
       "      <th>2</th>\n",
       "      <td>/ivete-sangalo/</td>\n",
       "      <td>Céu da Boca</td>\n",
       "      <td>/ivete-sangalo/chupa-toda.html</td>\n",
       "      <td>É de babaixá!\\nÉ de balacubaca!\\nÉ de babaixá!...</td>\n",
       "      <td>pt</td>\n",
       "    </tr>\n",
       "    <tr>\n",
       "      <th>3</th>\n",
       "      <td>/ivete-sangalo/</td>\n",
       "      <td>Quando A Chuva Passar</td>\n",
       "      <td>/ivete-sangalo/quando-a-chuva-passar.html</td>\n",
       "      <td>Quando a chuva passar\\n\\nPra quê falar\\nSe voc...</td>\n",
       "      <td>pt</td>\n",
       "    </tr>\n",
       "    <tr>\n",
       "      <th>4</th>\n",
       "      <td>/ivete-sangalo/</td>\n",
       "      <td>Sorte Grande</td>\n",
       "      <td>/ivete-sangalo/sorte-grande.html</td>\n",
       "      <td>A minha sorte grande foi você cair do céu\\nMin...</td>\n",
       "      <td>pt</td>\n",
       "    </tr>\n",
       "  </tbody>\n",
       "</table>\n",
       "</div>"
      ],
      "text/plain": [
       "             ALink                            SName  \\\n",
       "0  /ivete-sangalo/                            Arerê   \n",
       "1  /ivete-sangalo/  Se Eu Não Te Amasse Tanto Assim   \n",
       "2  /ivete-sangalo/                      Céu da Boca   \n",
       "3  /ivete-sangalo/            Quando A Chuva Passar   \n",
       "4  /ivete-sangalo/                     Sorte Grande   \n",
       "\n",
       "                                               SLink  \\\n",
       "0                          /ivete-sangalo/arere.html   \n",
       "1  /ivete-sangalo/se-eu-nao-te-amasse-tanto-assim...   \n",
       "2                     /ivete-sangalo/chupa-toda.html   \n",
       "3          /ivete-sangalo/quando-a-chuva-passar.html   \n",
       "4                   /ivete-sangalo/sorte-grande.html   \n",
       "\n",
       "                                               Lyric language  \n",
       "0  Tudo o que eu quero nessa vida,\\nToda vida, é\\...       pt  \n",
       "1  Meu coração\\nSem direção\\nVoando só por voar\\n...       pt  \n",
       "2  É de babaixá!\\nÉ de balacubaca!\\nÉ de babaixá!...       pt  \n",
       "3  Quando a chuva passar\\n\\nPra quê falar\\nSe voc...       pt  \n",
       "4  A minha sorte grande foi você cair do céu\\nMin...       pt  "
      ]
     },
     "execution_count": 2,
     "metadata": {},
     "output_type": "execute_result"
    }
   ],
   "source": [
    "origData = pd.read_csv(\"../lyrics-data.csv\")\n",
    "print(origData.shape)\n",
    "origData.head()"
   ]
  },
  {
   "cell_type": "markdown",
   "metadata": {},
   "source": [
    "We will be needing only english songs"
   ]
  },
  {
   "cell_type": "code",
   "execution_count": 3,
   "metadata": {},
   "outputs": [
    {
     "name": "stdout",
     "output_type": "stream",
     "text": [
      "(191814, 4)\n"
     ]
    },
    {
     "data": {
      "text/html": [
       "<div>\n",
       "<style scoped>\n",
       "    .dataframe tbody tr th:only-of-type {\n",
       "        vertical-align: middle;\n",
       "    }\n",
       "\n",
       "    .dataframe tbody tr th {\n",
       "        vertical-align: top;\n",
       "    }\n",
       "\n",
       "    .dataframe thead th {\n",
       "        text-align: right;\n",
       "    }\n",
       "</style>\n",
       "<table border=\"1\" class=\"dataframe\">\n",
       "  <thead>\n",
       "    <tr style=\"text-align: right;\">\n",
       "      <th></th>\n",
       "      <th>ALink</th>\n",
       "      <th>SName</th>\n",
       "      <th>SLink</th>\n",
       "      <th>Lyric</th>\n",
       "    </tr>\n",
       "  </thead>\n",
       "  <tbody>\n",
       "    <tr>\n",
       "      <th>69</th>\n",
       "      <td>/ivete-sangalo/</td>\n",
       "      <td>Careless Whisper</td>\n",
       "      <td>/ivete-sangalo/careless-whisper.html</td>\n",
       "      <td>I feel so unsure\\nAs I take your hand and lead...</td>\n",
       "    </tr>\n",
       "    <tr>\n",
       "      <th>86</th>\n",
       "      <td>/ivete-sangalo/</td>\n",
       "      <td>Could You Be Loved / Citação Musical do Rap: S...</td>\n",
       "      <td>/ivete-sangalo/could-you-be-loved-citacao-musi...</td>\n",
       "      <td>Don't let them fool, ya\\nOr even try to school...</td>\n",
       "    </tr>\n",
       "    <tr>\n",
       "      <th>88</th>\n",
       "      <td>/ivete-sangalo/</td>\n",
       "      <td>Cruisin' (Part. Saulo)</td>\n",
       "      <td>/ivete-sangalo/cruisin-part-saulo.html</td>\n",
       "      <td>Baby, let's cruise, away from here\\nDon't be c...</td>\n",
       "    </tr>\n",
       "    <tr>\n",
       "      <th>111</th>\n",
       "      <td>/ivete-sangalo/</td>\n",
       "      <td>Easy</td>\n",
       "      <td>/ivete-sangalo/easy.html</td>\n",
       "      <td>Know it sounds funny\\nBut, I just can't stand ...</td>\n",
       "    </tr>\n",
       "    <tr>\n",
       "      <th>140</th>\n",
       "      <td>/ivete-sangalo/</td>\n",
       "      <td>For Your Babies (The Voice cover)</td>\n",
       "      <td>/ivete-sangalo/for-your-babies-the-voice-cover...</td>\n",
       "      <td>You've got that look again\\nThe one I hoped I ...</td>\n",
       "    </tr>\n",
       "  </tbody>\n",
       "</table>\n",
       "</div>"
      ],
      "text/plain": [
       "               ALink                                              SName  \\\n",
       "69   /ivete-sangalo/                                   Careless Whisper   \n",
       "86   /ivete-sangalo/  Could You Be Loved / Citação Musical do Rap: S...   \n",
       "88   /ivete-sangalo/                             Cruisin' (Part. Saulo)   \n",
       "111  /ivete-sangalo/                                               Easy   \n",
       "140  /ivete-sangalo/                  For Your Babies (The Voice cover)   \n",
       "\n",
       "                                                 SLink  \\\n",
       "69                /ivete-sangalo/careless-whisper.html   \n",
       "86   /ivete-sangalo/could-you-be-loved-citacao-musi...   \n",
       "88              /ivete-sangalo/cruisin-part-saulo.html   \n",
       "111                           /ivete-sangalo/easy.html   \n",
       "140  /ivete-sangalo/for-your-babies-the-voice-cover...   \n",
       "\n",
       "                                                 Lyric  \n",
       "69   I feel so unsure\\nAs I take your hand and lead...  \n",
       "86   Don't let them fool, ya\\nOr even try to school...  \n",
       "88   Baby, let's cruise, away from here\\nDon't be c...  \n",
       "111  Know it sounds funny\\nBut, I just can't stand ...  \n",
       "140  You've got that look again\\nThe one I hoped I ...  "
      ]
     },
     "execution_count": 3,
     "metadata": {},
     "output_type": "execute_result"
    }
   ],
   "source": [
    "tempData = origData[origData.language == \"en\"].drop(\"language\", axis = 1)\n",
    "print(tempData.shape)\n",
    "tempData.head()"
   ]
  },
  {
   "cell_type": "markdown",
   "metadata": {},
   "source": [
    "There are still too many songs, let us narrow it down by selecting a few artists"
   ]
  },
  {
   "cell_type": "code",
   "execution_count": 4,
   "metadata": {},
   "outputs": [
    {
     "name": "stdout",
     "output_type": "stream",
     "text": [
      "(657, 4)\n"
     ]
    },
    {
     "data": {
      "text/html": [
       "<div>\n",
       "<style scoped>\n",
       "    .dataframe tbody tr th:only-of-type {\n",
       "        vertical-align: middle;\n",
       "    }\n",
       "\n",
       "    .dataframe tbody tr th {\n",
       "        vertical-align: top;\n",
       "    }\n",
       "\n",
       "    .dataframe thead th {\n",
       "        text-align: right;\n",
       "    }\n",
       "</style>\n",
       "<table border=\"1\" class=\"dataframe\">\n",
       "  <thead>\n",
       "    <tr style=\"text-align: right;\">\n",
       "      <th></th>\n",
       "      <th>ALink</th>\n",
       "      <th>SName</th>\n",
       "      <th>SLink</th>\n",
       "      <th>Lyric</th>\n",
       "    </tr>\n",
       "  </thead>\n",
       "  <tbody>\n",
       "    <tr>\n",
       "      <th>142193</th>\n",
       "      <td>/linkin-park/</td>\n",
       "      <td>In The End</td>\n",
       "      <td>/linkin-park/in-the-end.html</td>\n",
       "      <td>It starts with\\nOne thing, I don't know why\\nI...</td>\n",
       "    </tr>\n",
       "    <tr>\n",
       "      <th>142194</th>\n",
       "      <td>/linkin-park/</td>\n",
       "      <td>Numb</td>\n",
       "      <td>/linkin-park/numb.html</td>\n",
       "      <td>I'm tired of being what you want me to be\\nFee...</td>\n",
       "    </tr>\n",
       "    <tr>\n",
       "      <th>142195</th>\n",
       "      <td>/linkin-park/</td>\n",
       "      <td>Crawling</td>\n",
       "      <td>/linkin-park/crawling.html</td>\n",
       "      <td>Crawling in my skin,\\nThese wounds they will n...</td>\n",
       "    </tr>\n",
       "    <tr>\n",
       "      <th>142196</th>\n",
       "      <td>/linkin-park/</td>\n",
       "      <td>Leave Out All The Rest</td>\n",
       "      <td>/linkin-park/leave-out-all-the-rest.html</td>\n",
       "      <td>I dreamed I was missing\\nYou were so scared\\nB...</td>\n",
       "    </tr>\n",
       "    <tr>\n",
       "      <th>142197</th>\n",
       "      <td>/linkin-park/</td>\n",
       "      <td>One More Light</td>\n",
       "      <td>/linkin-park/one-more-light.html</td>\n",
       "      <td>Should've stayed, were there signs I ignored?\\...</td>\n",
       "    </tr>\n",
       "  </tbody>\n",
       "</table>\n",
       "</div>"
      ],
      "text/plain": [
       "                ALink                   SName  \\\n",
       "142193  /linkin-park/              In The End   \n",
       "142194  /linkin-park/                    Numb   \n",
       "142195  /linkin-park/                Crawling   \n",
       "142196  /linkin-park/  Leave Out All The Rest   \n",
       "142197  /linkin-park/          One More Light   \n",
       "\n",
       "                                           SLink  \\\n",
       "142193              /linkin-park/in-the-end.html   \n",
       "142194                    /linkin-park/numb.html   \n",
       "142195                /linkin-park/crawling.html   \n",
       "142196  /linkin-park/leave-out-all-the-rest.html   \n",
       "142197          /linkin-park/one-more-light.html   \n",
       "\n",
       "                                                    Lyric  \n",
       "142193  It starts with\\nOne thing, I don't know why\\nI...  \n",
       "142194  I'm tired of being what you want me to be\\nFee...  \n",
       "142195  Crawling in my skin,\\nThese wounds they will n...  \n",
       "142196  I dreamed I was missing\\nYou were so scared\\nB...  \n",
       "142197  Should've stayed, were there signs I ignored?\\...  "
      ]
     },
     "execution_count": 4,
     "metadata": {},
     "output_type": "execute_result"
    }
   ],
   "source": [
    "select_artist = [\n",
    "    \"/green-day/\",\n",
    "    \"/linkin-park/\",\n",
    "    \"/imagine-dragons/\",\n",
    "    \"/the-script/\"\n",
    "]\n",
    "usedData = tempData[tempData.ALink.isin(select_artist)]\n",
    "\n",
    "print(usedData.shape)\n",
    "usedData.head()"
   ]
  },
  {
   "cell_type": "markdown",
   "metadata": {},
   "source": [
    "### Cleaning and Visualising Data\n",
    "\n",
    "We drop the Artist, Song name and Song Link columns since they are unused. Instead, we add a word count column"
   ]
  },
  {
   "cell_type": "code",
   "execution_count": 5,
   "metadata": {},
   "outputs": [
    {
     "data": {
      "text/html": [
       "<div>\n",
       "<style scoped>\n",
       "    .dataframe tbody tr th:only-of-type {\n",
       "        vertical-align: middle;\n",
       "    }\n",
       "\n",
       "    .dataframe tbody tr th {\n",
       "        vertical-align: top;\n",
       "    }\n",
       "\n",
       "    .dataframe thead th {\n",
       "        text-align: right;\n",
       "    }\n",
       "</style>\n",
       "<table border=\"1\" class=\"dataframe\">\n",
       "  <thead>\n",
       "    <tr style=\"text-align: right;\">\n",
       "      <th></th>\n",
       "      <th>Lyric</th>\n",
       "    </tr>\n",
       "  </thead>\n",
       "  <tbody>\n",
       "    <tr>\n",
       "      <th>142193</th>\n",
       "      <td>It starts with\\nOne thing, I don't know why\\nI...</td>\n",
       "    </tr>\n",
       "    <tr>\n",
       "      <th>142194</th>\n",
       "      <td>I'm tired of being what you want me to be\\nFee...</td>\n",
       "    </tr>\n",
       "    <tr>\n",
       "      <th>142195</th>\n",
       "      <td>Crawling in my skin,\\nThese wounds they will n...</td>\n",
       "    </tr>\n",
       "    <tr>\n",
       "      <th>142196</th>\n",
       "      <td>I dreamed I was missing\\nYou were so scared\\nB...</td>\n",
       "    </tr>\n",
       "    <tr>\n",
       "      <th>142197</th>\n",
       "      <td>Should've stayed, were there signs I ignored?\\...</td>\n",
       "    </tr>\n",
       "  </tbody>\n",
       "</table>\n",
       "</div>"
      ],
      "text/plain": [
       "                                                    Lyric\n",
       "142193  It starts with\\nOne thing, I don't know why\\nI...\n",
       "142194  I'm tired of being what you want me to be\\nFee...\n",
       "142195  Crawling in my skin,\\nThese wounds they will n...\n",
       "142196  I dreamed I was missing\\nYou were so scared\\nB...\n",
       "142197  Should've stayed, were there signs I ignored?\\..."
      ]
     },
     "execution_count": 5,
     "metadata": {},
     "output_type": "execute_result"
    }
   ],
   "source": [
    "data = usedData.drop([\"ALink\", \"SName\", \"SLink\"], axis = 1)\n",
    "data.head()"
   ]
  },
  {
   "cell_type": "code",
   "execution_count": 6,
   "metadata": {},
   "outputs": [
    {
     "data": {
      "text/plain": [
       "448"
      ]
     },
     "execution_count": 6,
     "metadata": {},
     "output_type": "execute_result"
    }
   ],
   "source": [
    "data[\"NWords\"] = data.Lyric.apply(lambda x: len(str(x).split()))\n",
    "data = data[(data.NWords > 100) & (data.NWords < 450)]\n",
    "data.NWords.max()"
   ]
  },
  {
   "cell_type": "markdown",
   "metadata": {},
   "source": [
    "We delete variables which we do not intend to use later on to save on memory"
   ]
  },
  {
   "cell_type": "code",
   "execution_count": 7,
   "metadata": {},
   "outputs": [],
   "source": [
    "del origData\n",
    "del tempData\n",
    "del usedData\n",
    "del select_artist"
   ]
  },
  {
   "cell_type": "markdown",
   "metadata": {},
   "source": [
    "Visualising the dataset thus formed"
   ]
  },
  {
   "cell_type": "code",
   "execution_count": 8,
   "metadata": {},
   "outputs": [
    {
     "data": {
      "text/plain": [
       "count    525.000000\n",
       "mean     248.129524\n",
       "std       86.807425\n",
       "min      101.000000\n",
       "25%      177.000000\n",
       "50%      239.000000\n",
       "75%      310.000000\n",
       "max      448.000000\n",
       "Name: NWords, dtype: float64"
      ]
     },
     "execution_count": 8,
     "metadata": {},
     "output_type": "execute_result"
    }
   ],
   "source": [
    "data.NWords.describe()"
   ]
  },
  {
   "cell_type": "code",
   "execution_count": 9,
   "metadata": {},
   "outputs": [
    {
     "data": {
      "text/plain": [
       "Text(0.5, 1.0, 'Word Count Distribution for Songs')"
      ]
     },
     "execution_count": 9,
     "metadata": {},
     "output_type": "execute_result"
    },
    {
     "data": {
      "image/png": "[encoded data removed]",
      "text/plain": [
       "<Figure size 2000x400 with 1 Axes>"
      ]
     },
     "metadata": {},
     "output_type": "display_data"
    }
   ],
   "source": [
    "plt.figure(figsize = (20, 4))\n",
    "plt.hist(data.NWords, bins = 200)\n",
    "plt.xlabel(\"Number of Words\")\n",
    "plt.title(\"Word Count Distribution for Songs\")"
   ]
  },
  {
   "cell_type": "code",
   "execution_count": 10,
   "metadata": {},
   "outputs": [
    {
     "data": {
      "image/png": "[encoded data removed]",
      "text/plain": [
       "<Figure size 2000x400 with 1 Axes>"
      ]
     },
     "metadata": {},
     "output_type": "display_data"
    }
   ],
   "source": [
    "plt.figure(figsize = (20, 4))\n",
    "sns.boxplot(x = data.NWords, orient = \"horizontal\")\n",
    "plt.show()"
   ]
  },
  {
   "cell_type": "markdown",
   "metadata": {},
   "source": [
    "### Preparing Data for Text Prediction\n",
    "\n",
    "We will tokenise the entire dataset and convert the tokenised sentences to n-gram sequences. We will also save the tokenizer for reproducability"
   ]
  },
  {
   "cell_type": "code",
   "execution_count": 11,
   "metadata": {},
   "outputs": [
    {
     "data": {
      "text/plain": [
       "[9,\n",
       " 893,\n",
       " 35,\n",
       " 42,\n",
       " 202,\n",
       " 2,\n",
       " 23,\n",
       " 28,\n",
       " 121,\n",
       " 9,\n",
       " 337,\n",
       " 196,\n",
       " 223,\n",
       " 87,\n",
       " 242,\n",
       " 3,\n",
       " 228,\n",
       " 154,\n",
       " 16,\n",
       " 10,\n",
       " 88,\n",
       " 2,\n",
       " 2883,\n",
       " 27,\n",
       " 1029,\n",
       " 4,\n",
       " 1030,\n",
       " 10,\n",
       " 1999,\n",
       " 44,\n",
       " 13,\n",
       " 2,\n",
       " 28,\n",
       " 44,\n",
       " 17,\n",
       " 6,\n",
       " 3782,\n",
       " 202,\n",
       " 329,\n",
       " 9,\n",
       " 363,\n",
       " 117,\n",
       " 92,\n",
       " 1,\n",
       " 3783,\n",
       " 3784,\n",
       " 329,\n",
       " 9,\n",
       " 723,\n",
       " 45,\n",
       " 4,\n",
       " 1,\n",
       " 143,\n",
       " 11,\n",
       " 1,\n",
       " 112,\n",
       " 1,\n",
       " 1224,\n",
       " 2349,\n",
       " 72,\n",
       " 46,\n",
       " 22,\n",
       " 24,\n",
       " 943,\n",
       " 398,\n",
       " 100,\n",
       " 31,\n",
       " 566,\n",
       " 329,\n",
       " 1,\n",
       " 44,\n",
       " 38,\n",
       " 105,\n",
       " 31,\n",
       " 1,\n",
       " 894,\n",
       " 285,\n",
       " 4,\n",
       " 184,\n",
       " 15,\n",
       " 84,\n",
       " 398,\n",
       " 196,\n",
       " 28,\n",
       " 2,\n",
       " 895,\n",
       " 9,\n",
       " 13,\n",
       " 32,\n",
       " 4,\n",
       " 329,\n",
       " 3,\n",
       " 38,\n",
       " 2,\n",
       " 896,\n",
       " 78,\n",
       " 136,\n",
       " 5,\n",
       " 196,\n",
       " 655,\n",
       " 2,\n",
       " 399,\n",
       " 9,\n",
       " 13,\n",
       " 567,\n",
       " 378,\n",
       " 30,\n",
       " 9,\n",
       " 331,\n",
       " 4,\n",
       " 8,\n",
       " 63,\n",
       " 1152,\n",
       " 19,\n",
       " 6,\n",
       " 332,\n",
       " 11,\n",
       " 6,\n",
       " 44,\n",
       " 34,\n",
       " 2,\n",
       " 399,\n",
       " 24,\n",
       " 242,\n",
       " 5,\n",
       " 54,\n",
       " 24,\n",
       " 156,\n",
       " 25,\n",
       " 10,\n",
       " 1,\n",
       " 143,\n",
       " 9,\n",
       " 337,\n",
       " 196,\n",
       " 223,\n",
       " 2,\n",
       " 151,\n",
       " 4,\n",
       " 157,\n",
       " 4,\n",
       " 250,\n",
       " 9,\n",
       " 13,\n",
       " 25,\n",
       " 10,\n",
       " 1,\n",
       " 143,\n",
       " 9,\n",
       " 337,\n",
       " 196,\n",
       " 223,\n",
       " 42,\n",
       " 202,\n",
       " 2,\n",
       " 23,\n",
       " 28,\n",
       " 121,\n",
       " 9,\n",
       " 337,\n",
       " 196,\n",
       " 223,\n",
       " 87,\n",
       " 242,\n",
       " 3,\n",
       " 228,\n",
       " 154,\n",
       " 16,\n",
       " 10,\n",
       " 88,\n",
       " 2,\n",
       " 2883,\n",
       " 27,\n",
       " 1029,\n",
       " 4,\n",
       " 1324,\n",
       " 99,\n",
       " 87,\n",
       " 2,\n",
       " 399,\n",
       " 24,\n",
       " 242,\n",
       " 10,\n",
       " 1595,\n",
       " 11,\n",
       " 1,\n",
       " 82,\n",
       " 3,\n",
       " 128,\n",
       " 2884,\n",
       " 8,\n",
       " 2885,\n",
       " 33,\n",
       " 2,\n",
       " 57,\n",
       " 319,\n",
       " 11,\n",
       " 14,\n",
       " 2886,\n",
       " 2887,\n",
       " 13,\n",
       " 1,\n",
       " 315,\n",
       " 3,\n",
       " 2350,\n",
       " 35,\n",
       " 8,\n",
       " 12,\n",
       " 2000,\n",
       " 9,\n",
       " 54,\n",
       " 24,\n",
       " 156,\n",
       " 111,\n",
       " 1325,\n",
       " 1,\n",
       " 82,\n",
       " 84,\n",
       " 128,\n",
       " 144,\n",
       " 3,\n",
       " 944,\n",
       " 196,\n",
       " 1786,\n",
       " 8,\n",
       " 472,\n",
       " 40,\n",
       " 16,\n",
       " 3,\n",
       " 364,\n",
       " 8,\n",
       " 59,\n",
       " 140,\n",
       " 25,\n",
       " 9,\n",
       " 13,\n",
       " 215,\n",
       " 59,\n",
       " 4,\n",
       " 8,\n",
       " 10,\n",
       " 1,\n",
       " 143,\n",
       " 2,\n",
       " 896,\n",
       " 78,\n",
       " 136,\n",
       " 5,\n",
       " 196,\n",
       " 655,\n",
       " 2,\n",
       " 399,\n",
       " 9,\n",
       " 13,\n",
       " 567,\n",
       " 378,\n",
       " 30,\n",
       " 9,\n",
       " 331,\n",
       " 4,\n",
       " 8,\n",
       " 63,\n",
       " 1152,\n",
       " 19,\n",
       " 6,\n",
       " 332,\n",
       " 11,\n",
       " 6,\n",
       " 44,\n",
       " 34,\n",
       " 2,\n",
       " 399,\n",
       " 24,\n",
       " 242,\n",
       " 5,\n",
       " 54,\n",
       " 24,\n",
       " 156,\n",
       " 25,\n",
       " 10,\n",
       " 1,\n",
       " 143,\n",
       " 9,\n",
       " 337,\n",
       " 196,\n",
       " 223,\n",
       " 2,\n",
       " 151,\n",
       " 4,\n",
       " 157,\n",
       " 4,\n",
       " 250,\n",
       " 9,\n",
       " 13,\n",
       " 25,\n",
       " 10,\n",
       " 1,\n",
       " 143,\n",
       " 9,\n",
       " 337,\n",
       " 196,\n",
       " 223,\n",
       " 49,\n",
       " 243,\n",
       " 7,\n",
       " 338,\n",
       " 10,\n",
       " 3,\n",
       " 1225,\n",
       " 92,\n",
       " 156,\n",
       " 92,\n",
       " 2,\n",
       " 53,\n",
       " 38,\n",
       " 21,\n",
       " 13,\n",
       " 27,\n",
       " 101,\n",
       " 106,\n",
       " 42,\n",
       " 202,\n",
       " 3,\n",
       " 359,\n",
       " 28,\n",
       " 49,\n",
       " 243,\n",
       " 7,\n",
       " 338,\n",
       " 10,\n",
       " 3,\n",
       " 1225,\n",
       " 92,\n",
       " 156,\n",
       " 92,\n",
       " 2,\n",
       " 53,\n",
       " 38,\n",
       " 21,\n",
       " 13,\n",
       " 27,\n",
       " 101,\n",
       " 106,\n",
       " 42,\n",
       " 202,\n",
       " 3,\n",
       " 359,\n",
       " 28,\n",
       " 2,\n",
       " 399,\n",
       " 24,\n",
       " 242,\n",
       " 5,\n",
       " 54,\n",
       " 24,\n",
       " 156,\n",
       " 25,\n",
       " 10,\n",
       " 1,\n",
       " 143,\n",
       " 9,\n",
       " 337,\n",
       " 196,\n",
       " 223,\n",
       " 2,\n",
       " 151,\n",
       " 4,\n",
       " 157,\n",
       " 4,\n",
       " 250,\n",
       " 9,\n",
       " 13,\n",
       " 25,\n",
       " 10,\n",
       " 1,\n",
       " 143,\n",
       " 9,\n",
       " 337,\n",
       " 196,\n",
       " 223]"
      ]
     },
     "execution_count": 11,
     "metadata": {},
     "output_type": "execute_result"
    }
   ],
   "source": [
    "tokenizer = Tokenizer()\n",
    "tokenizer.fit_on_texts(data.Lyric.astype(str).str.lower())\n",
    "totalWords = len(tokenizer.word_index) + 1\n",
    "tokenizedSentences = tokenizer.texts_to_sequences(data.Lyric.astype(str))\n",
    "tokenizedSentences[0]"
   ]
  },
  {
   "cell_type": "code",
   "execution_count": 12,
   "metadata": {},
   "outputs": [],
   "source": [
    "with open(\"../tokenizer.pickle\", \"wb\") as file:\n",
    "    pickle.dump(tokenizer, file, protocol = pickle.HIGHEST_PROTOCOL)"
   ]
  },
  {
   "cell_type": "code",
   "execution_count": 13,
   "metadata": {},
   "outputs": [
    {
     "data": {
      "text/plain": [
       "(133559, 1163)"
      ]
     },
     "execution_count": 13,
     "metadata": {},
     "output_type": "execute_result"
    }
   ],
   "source": [
    "inputSeq = []\n",
    "maxLen = 0\n",
    "for i in tokenizedSentences:\n",
    "    for t in range(1, len(i)):\n",
    "        seq = i[:t + 1]\n",
    "        inputSeq.append(seq)\n",
    "    maxLen = max(maxLen, len(i))\n",
    "\n",
    "gc.collect()\n",
    "inputSeq = np.array(pad_sequences(inputSeq, maxlen = maxLen, padding = \"pre\"))\n",
    "inputSeq.shape"
   ]
  },
  {
   "cell_type": "markdown",
   "metadata": {},
   "source": [
    "Creating context (x) and target (y) variables"
   ]
  },
  {
   "cell_type": "code",
   "execution_count": 14,
   "metadata": {},
   "outputs": [
    {
     "name": "stdout",
     "output_type": "stream",
     "text": [
      "(133559, 1162)\n"
     ]
    }
   ],
   "source": [
    "x, labels = inputSeq[:, :-1], inputSeq[:,-1]\n",
    "print(x.shape)"
   ]
  },
  {
   "cell_type": "code",
   "execution_count": 15,
   "metadata": {},
   "outputs": [],
   "source": [
    "y = to_categorical(labels, num_classes = totalWords)"
   ]
  },
  {
   "cell_type": "code",
   "execution_count": 16,
   "metadata": {},
   "outputs": [],
   "source": [
    "del labels\n"
   ]
  },
  {
   "cell_type": "code",
   "execution_count": 17,
   "metadata": {},
   "outputs": [
    {
     "data": {
      "text/plain": [
       "0"
      ]
     },
     "execution_count": 17,
     "metadata": {},
     "output_type": "execute_result"
    }
   ],
   "source": [
    "gc.collect()"
   ]
  },
  {
   "cell_type": "markdown",
   "metadata": {},
   "source": [
    "## Building and Training Model"
   ]
  },
  {
   "cell_type": "code",
   "execution_count": 18,
   "metadata": {},
   "outputs": [
    {
     "data": {
      "text/plain": [
       "(1998, 100)"
      ]
     },
     "execution_count": 18,
     "metadata": {},
     "output_type": "execute_result"
    }
   ],
   "source": [
    "wordModel = Word2Vec(tokenizedSentences)\n",
    "pretrainWeight = wordModel.wv.vectors\n",
    "pretrainWeight.shape\n"
   ]
  },
  {
   "cell_type": "code",
   "execution_count": 19,
   "metadata": {},
   "outputs": [
    {
     "name": "stderr",
     "output_type": "stream",
     "text": [
      "2023-11-21 14:55:37.641477: I tensorflow/compiler/xla/stream_executor/cuda/cuda_gpu_executor.cc:894] successful NUMA node read from SysFS had negative value (-1), but there must be at least one NUMA node, so returning NUMA node zero. See more at https://github.com/torvalds/linux/blob/v6.0/Documentation/ABI/testing/sysfs-bus-pci#L344-L355\n",
      "2023-11-21 14:55:37.669250: I tensorflow/compiler/xla/stream_executor/cuda/cuda_gpu_executor.cc:894] successful NUMA node read from SysFS had negative value (-1), but there must be at least one NUMA node, so returning NUMA node zero. See more at https://github.com/torvalds/linux/blob/v6.0/Documentation/ABI/testing/sysfs-bus-pci#L344-L355\n",
      "2023-11-21 14:55:37.669489: I tensorflow/compiler/xla/stream_executor/cuda/cuda_gpu_executor.cc:894] successful NUMA node read from SysFS had negative value (-1), but there must be at least one NUMA node, so returning NUMA node zero. See more at https://github.com/torvalds/linux/blob/v6.0/Documentation/ABI/testing/sysfs-bus-pci#L344-L355\n",
      "2023-11-21 14:55:37.670985: I tensorflow/compiler/xla/stream_executor/cuda/cuda_gpu_executor.cc:894] successful NUMA node read from SysFS had negative value (-1), but there must be at least one NUMA node, so returning NUMA node zero. See more at https://github.com/torvalds/linux/blob/v6.0/Documentation/ABI/testing/sysfs-bus-pci#L344-L355\n",
      "2023-11-21 14:55:37.671145: I tensorflow/compiler/xla/stream_executor/cuda/cuda_gpu_executor.cc:894] successful NUMA node read from SysFS had negative value (-1), but there must be at least one NUMA node, so returning NUMA node zero. See more at https://github.com/torvalds/linux/blob/v6.0/Documentation/ABI/testing/sysfs-bus-pci#L344-L355\n",
      "2023-11-21 14:55:37.671286: I tensorflow/compiler/xla/stream_executor/cuda/cuda_gpu_executor.cc:894] successful NUMA node read from SysFS had negative value (-1), but there must be at least one NUMA node, so returning NUMA node zero. See more at https://github.com/torvalds/linux/blob/v6.0/Documentation/ABI/testing/sysfs-bus-pci#L344-L355\n",
      "2023-11-21 14:55:37.723932: I tensorflow/compiler/xla/stream_executor/cuda/cuda_gpu_executor.cc:894] successful NUMA node read from SysFS had negative value (-1), but there must be at least one NUMA node, so returning NUMA node zero. See more at https://github.com/torvalds/linux/blob/v6.0/Documentation/ABI/testing/sysfs-bus-pci#L344-L355\n",
      "2023-11-21 14:55:37.724122: I tensorflow/compiler/xla/stream_executor/cuda/cuda_gpu_executor.cc:894] successful NUMA node read from SysFS had negative value (-1), but there must be at least one NUMA node, so returning NUMA node zero. See more at https://github.com/torvalds/linux/blob/v6.0/Documentation/ABI/testing/sysfs-bus-pci#L344-L355\n",
      "2023-11-21 14:55:37.724276: I tensorflow/compiler/xla/stream_executor/cuda/cuda_gpu_executor.cc:894] successful NUMA node read from SysFS had negative value (-1), but there must be at least one NUMA node, so returning NUMA node zero. See more at https://github.com/torvalds/linux/blob/v6.0/Documentation/ABI/testing/sysfs-bus-pci#L344-L355\n",
      "2023-11-21 14:55:37.724397: I tensorflow/core/common_runtime/gpu/gpu_device.cc:1886] Created device /job:localhost/replica:0/task:0/device:GPU:0 with 4279 MB memory:  -> device: 0, name: NVIDIA GeForce RTX 3060 Laptop GPU, pci bus id: 0000:01:00.0, compute capability: 8.6\n"
     ]
    }
   ],
   "source": [
    "model = Sequential([\n",
    "    Embedding(totalWords, 40, input_length = maxLen - 1),\n",
    "    Bidirectional(LSTM(250)),\n",
    "    Dropout(0.1),\n",
    "    Dense(totalWords, activation = \"softmax\")\n",
    "])\n",
    "model.compile(\n",
    "    loss = \"categorical_crossentropy\",\n",
    "    optimizer = \"adam\",\n",
    "    metrics = [\"accuracy\"]\n",
    ")"
   ]
  },
  {
   "cell_type": "code",
   "execution_count": 20,
   "metadata": {},
   "outputs": [
    {
     "name": "stderr",
     "output_type": "stream",
     "text": [
      "2023-11-21 14:55:38.278307: W tensorflow/tsl/framework/cpu_allocator_impl.cc:83] Allocation of 620782232 exceeds 10% of free system memory.\n",
      "2023-11-21 14:55:38.847809: W tensorflow/tsl/framework/cpu_allocator_impl.cc:83] Allocation of 3281277512 exceeds 10% of free system memory.\n",
      "2023-11-21 14:55:41.918704: W tensorflow/tsl/framework/cpu_allocator_impl.cc:83] Allocation of 3281277512 exceeds 10% of free system memory.\n"
     ]
    },
    {
     "name": "stdout",
     "output_type": "stream",
     "text": [
      "Epoch 1/200\n"
     ]
    },
    {
     "name": "stderr",
     "output_type": "stream",
     "text": [
      "2023-11-21 14:55:44.656420: I tensorflow/compiler/xla/stream_executor/cuda/cuda_dnn.cc:442] Loaded cuDNN version 8700\n",
      "2023-11-21 14:55:45.239042: I tensorflow/compiler/xla/service/service.cc:168] XLA service 0x7fa1f8488a00 initialized for platform CUDA (this does not guarantee that XLA will be used). Devices:\n",
      "2023-11-21 14:55:45.239071: I tensorflow/compiler/xla/service/service.cc:176]   StreamExecutor device (0): NVIDIA GeForce RTX 3060 Laptop GPU, Compute Capability 8.6\n",
      "2023-11-21 14:55:45.253324: I tensorflow/compiler/mlir/tensorflow/utils/dump_mlir_util.cc:269] disabling MLIR crash reproducer, set env var `MLIR_CRASH_REPRODUCER_DIRECTORY` to enable.\n",
      "2023-11-21 14:55:45.348665: I ./tensorflow/compiler/jit/device_compiler.h:186] Compiled cluster using XLA!  This line is logged at most once for the lifetime of the process.\n"
     ]
    },
    {
     "name": "stdout",
     "output_type": "stream",
     "text": [
      "4174/4174 [==============================] - ETA: 0s - loss: 5.7076 - accuracy: 0.0916\n",
      "Epoch 1: loss improved from inf to 5.70756, saving model to ../only_four_model.h5\n"
     ]
    },
    {
     "name": "stderr",
     "output_type": "stream",
     "text": [
      "/home/darshk/miniconda3/envs/tf/lib/python3.10/site-packages/keras/src/engine/training.py:3079: UserWarning: You are saving your model as an HDF5 file via `model.save()`. This file format is considered legacy. We recommend using instead the native Keras format, e.g. `model.save('my_model.keras')`.\n",
      "  saving_api.save_model(\n"
     ]
    },
    {
     "name": "stdout",
     "output_type": "stream",
     "text": [
      "4174/4174 [==============================] - 393s 94ms/step - loss: 5.7076 - accuracy: 0.0916\n",
      "Epoch 2/200\n",
      "4174/4174 [==============================] - ETA: 0s - loss: 4.7310 - accuracy: 0.1806\n",
      "Epoch 2: loss improved from 5.70756 to 4.73095, saving model to ../only_four_model.h5\n",
      "4174/4174 [==============================] - 383s 92ms/step - loss: 4.7310 - accuracy: 0.1806\n",
      "Epoch 3/200\n",
      "4174/4174 [==============================] - ETA: 0s - loss: 4.0273 - accuracy: 0.2597\n",
      "Epoch 3: loss improved from 4.73095 to 4.02727, saving model to ../only_four_model.h5\n",
      "4174/4174 [==============================] - 363s 87ms/step - loss: 4.0273 - accuracy: 0.2597\n",
      "Epoch 4/200\n",
      "4174/4174 [==============================] - ETA: 0s - loss: 3.4830 - accuracy: 0.3325\n",
      "Epoch 4: loss improved from 4.02727 to 3.48303, saving model to ../only_four_model.h5\n",
      "4174/4174 [==============================] - 363s 87ms/step - loss: 3.4830 - accuracy: 0.3325\n",
      "Epoch 5/200\n",
      "4174/4174 [==============================] - ETA: 0s - loss: 3.0608 - accuracy: 0.3932\n",
      "Epoch 5: loss improved from 3.48303 to 3.06076, saving model to ../only_four_model.h5\n",
      "4174/4174 [==============================] - 363s 87ms/step - loss: 3.0608 - accuracy: 0.3932\n",
      "Epoch 6/200\n",
      "4174/4174 [==============================] - ETA: 0s - loss: 2.7335 - accuracy: 0.4442\n",
      "Epoch 6: loss improved from 3.06076 to 2.73350, saving model to ../only_four_model.h5\n",
      "4174/4174 [==============================] - 364s 87ms/step - loss: 2.7335 - accuracy: 0.4442\n",
      "Epoch 7/200\n",
      "4174/4174 [==============================] - ETA: 0s - loss: 2.4696 - accuracy: 0.4851\n",
      "Epoch 7: loss improved from 2.73350 to 2.46961, saving model to ../only_four_model.h5\n",
      "4174/4174 [==============================] - 363s 87ms/step - loss: 2.4696 - accuracy: 0.4851\n",
      "Epoch 8/200\n",
      "4174/4174 [==============================] - ETA: 0s - loss: 2.2549 - accuracy: 0.5213\n",
      "Epoch 8: loss improved from 2.46961 to 2.25494, saving model to ../only_four_model.h5\n",
      "4174/4174 [==============================] - 363s 87ms/step - loss: 2.2549 - accuracy: 0.5213\n",
      "Epoch 9/200\n",
      "4174/4174 [==============================] - ETA: 0s - loss: 2.0849 - accuracy: 0.5508\n",
      "Epoch 9: loss improved from 2.25494 to 2.08487, saving model to ../only_four_model.h5\n",
      "4174/4174 [==============================] - 362s 87ms/step - loss: 2.0849 - accuracy: 0.5508\n",
      "Epoch 10/200\n",
      "4174/4174 [==============================] - ETA: 0s - loss: 1.9389 - accuracy: 0.5756\n",
      "Epoch 10: loss improved from 2.08487 to 1.93891, saving model to ../only_four_model.h5\n",
      "4174/4174 [==============================] - 363s 87ms/step - loss: 1.9389 - accuracy: 0.5756\n",
      "Epoch 11/200\n",
      "4174/4174 [==============================] - ETA: 0s - loss: 1.8250 - accuracy: 0.5958\n",
      "Epoch 11: loss improved from 1.93891 to 1.82497, saving model to ../only_four_model.h5\n",
      "4174/4174 [==============================] - 363s 87ms/step - loss: 1.8250 - accuracy: 0.5958\n",
      "Epoch 12/200\n",
      "4174/4174 [==============================] - ETA: 0s - loss: 1.7254 - accuracy: 0.6144\n",
      "Epoch 12: loss improved from 1.82497 to 1.72539, saving model to ../only_four_model.h5\n",
      "4174/4174 [==============================] - 364s 87ms/step - loss: 1.7254 - accuracy: 0.6144\n",
      "Epoch 13/200\n",
      "4174/4174 [==============================] - ETA: 0s - loss: 1.6471 - accuracy: 0.6279\n",
      "Epoch 13: loss improved from 1.72539 to 1.64712, saving model to ../only_four_model.h5\n",
      "4174/4174 [==============================] - 367s 88ms/step - loss: 1.6471 - accuracy: 0.6279\n",
      "Epoch 14/200\n",
      "4174/4174 [==============================] - ETA: 0s - loss: 1.5767 - accuracy: 0.6406\n",
      "Epoch 14: loss improved from 1.64712 to 1.57669, saving model to ../only_four_model.h5\n",
      "4174/4174 [==============================] - 365s 87ms/step - loss: 1.5767 - accuracy: 0.6406\n",
      "Epoch 15/200\n",
      "4174/4174 [==============================] - ETA: 0s - loss: 1.5252 - accuracy: 0.6491\n",
      "Epoch 15: loss improved from 1.57669 to 1.52523, saving model to ../only_four_model.h5\n",
      "4174/4174 [==============================] - 364s 87ms/step - loss: 1.5252 - accuracy: 0.6491\n",
      "Epoch 16/200\n",
      "4174/4174 [==============================] - ETA: 0s - loss: 1.4758 - accuracy: 0.6570\n",
      "Epoch 16: loss improved from 1.52523 to 1.47584, saving model to ../only_four_model.h5\n",
      "4174/4174 [==============================] - 373s 89ms/step - loss: 1.4758 - accuracy: 0.6570\n",
      "Epoch 17/200\n",
      "4174/4174 [==============================] - ETA: 0s - loss: 1.4312 - accuracy: 0.6648\n",
      "Epoch 17: loss improved from 1.47584 to 1.43123, saving model to ../only_four_model.h5\n",
      "4174/4174 [==============================] - 364s 87ms/step - loss: 1.4312 - accuracy: 0.6648\n",
      "Epoch 18/200\n",
      "4174/4174 [==============================] - ETA: 0s - loss: 1.3948 - accuracy: 0.6709\n",
      "Epoch 18: loss improved from 1.43123 to 1.39477, saving model to ../only_four_model.h5\n",
      "4174/4174 [==============================] - 364s 87ms/step - loss: 1.3948 - accuracy: 0.6709\n",
      "Epoch 19/200\n",
      "4174/4174 [==============================] - ETA: 0s - loss: 1.3649 - accuracy: 0.6750\n",
      "Epoch 19: loss improved from 1.39477 to 1.36486, saving model to ../only_four_model.h5\n",
      "4174/4174 [==============================] - 363s 87ms/step - loss: 1.3649 - accuracy: 0.6750\n",
      "Epoch 20/200\n",
      "4174/4174 [==============================] - ETA: 0s - loss: 1.3350 - accuracy: 0.6815\n",
      "Epoch 20: loss improved from 1.36486 to 1.33500, saving model to ../only_four_model.h5\n",
      "4174/4174 [==============================] - 363s 87ms/step - loss: 1.3350 - accuracy: 0.6815\n",
      "Epoch 21/200\n",
      "4174/4174 [==============================] - ETA: 0s - loss: 1.3169 - accuracy: 0.6832\n",
      "Epoch 21: loss improved from 1.33500 to 1.31686, saving model to ../only_four_model.h5\n",
      "4174/4174 [==============================] - 362s 87ms/step - loss: 1.3169 - accuracy: 0.6832\n",
      "Epoch 22/200\n",
      "4174/4174 [==============================] - ETA: 0s - loss: 1.3006 - accuracy: 0.6859\n",
      "Epoch 22: loss improved from 1.31686 to 1.30065, saving model to ../only_four_model.h5\n",
      "4174/4174 [==============================] - 363s 87ms/step - loss: 1.3006 - accuracy: 0.6859\n",
      "Epoch 23/200\n",
      "4174/4174 [==============================] - ETA: 0s - loss: 1.2837 - accuracy: 0.6889\n",
      "Epoch 23: loss improved from 1.30065 to 1.28366, saving model to ../only_four_model.h5\n",
      "4174/4174 [==============================] - 364s 87ms/step - loss: 1.2837 - accuracy: 0.6889\n",
      "Epoch 24/200\n",
      "4174/4174 [==============================] - ETA: 0s - loss: 1.2725 - accuracy: 0.6901\n",
      "Epoch 24: loss improved from 1.28366 to 1.27253, saving model to ../only_four_model.h5\n",
      "4174/4174 [==============================] - 361s 87ms/step - loss: 1.2725 - accuracy: 0.6901\n",
      "Epoch 25/200\n",
      "4174/4174 [==============================] - ETA: 0s - loss: 1.2704 - accuracy: 0.6892\n",
      "Epoch 25: loss improved from 1.27253 to 1.27040, saving model to ../only_four_model.h5\n",
      "4174/4174 [==============================] - 361s 86ms/step - loss: 1.2704 - accuracy: 0.6892\n",
      "Epoch 26/200\n",
      "4174/4174 [==============================] - ETA: 0s - loss: 1.2646 - accuracy: 0.6910\n",
      "Epoch 26: loss improved from 1.27040 to 1.26462, saving model to ../only_four_model.h5\n",
      "4174/4174 [==============================] - 361s 86ms/step - loss: 1.2646 - accuracy: 0.6910\n",
      "Epoch 27/200\n",
      "4174/4174 [==============================] - ETA: 0s - loss: 1.2503 - accuracy: 0.6910\n",
      "Epoch 27: loss improved from 1.26462 to 1.25026, saving model to ../only_four_model.h5\n",
      "4174/4174 [==============================] - 361s 86ms/step - loss: 1.2503 - accuracy: 0.6910\n",
      "Epoch 28/200\n",
      "4174/4174 [==============================] - ETA: 0s - loss: 1.2596 - accuracy: 0.6882\n",
      "Epoch 28: loss did not improve from 1.25026\n",
      "4174/4174 [==============================] - 360s 86ms/step - loss: 1.2596 - accuracy: 0.6882\n",
      "Epoch 29/200\n",
      "4174/4174 [==============================] - ETA: 0s - loss: 1.2591 - accuracy: 0.6894\n",
      "Epoch 29: loss did not improve from 1.25026\n",
      "4174/4174 [==============================] - 361s 86ms/step - loss: 1.2591 - accuracy: 0.6894\n",
      "Epoch 30/200\n",
      "4174/4174 [==============================] - ETA: 0s - loss: 1.2908 - accuracy: 0.6813\n",
      "Epoch 30: loss did not improve from 1.25026\n",
      "4174/4174 [==============================] - 361s 86ms/step - loss: 1.2908 - accuracy: 0.6813\n"
     ]
    }
   ],
   "source": [
    "checkpoint = ModelCheckpoint(\n",
    "    \"../only_four_model.h5\",\n",
    "    monitor = \"loss\",\n",
    "    verbose = 1,\n",
    "    save_best_only = True,\n",
    "    mode = \"min\"\n",
    ")\n",
    "es = EarlyStopping(\n",
    "    monitor = \"loss\",\n",
    "    min_delta = 0,\n",
    "    patience = 3,\n",
    "    verbose = 0,\n",
    "    mode = \"auto\"\n",
    ")\n",
    "callbacks_list = [checkpoint, es]\n",
    "history = model.fit(\n",
    "    x,\n",
    "    y,\n",
    "    epochs=200,\n",
    "    verbose=1,\n",
    "    callbacks=[callbacks_list]\n",
    ")"
   ]
  },
  {
   "cell_type": "markdown",
   "metadata": {},
   "source": [
    "Training auto-stopped after around 3 hours of training over 30 epochs, since model loss stopped improving. Exporting final model"
   ]
  },
  {
   "cell_type": "code",
   "execution_count": 21,
   "metadata": {},
   "outputs": [
    {
     "name": "stderr",
     "output_type": "stream",
     "text": [
      "/home/darshk/miniconda3/envs/tf/lib/python3.10/site-packages/keras/src/engine/training.py:3079: UserWarning: You are saving your model as an HDF5 file via `model.save()`. This file format is considered legacy. We recommend using instead the native Keras format, e.g. `model.save('my_model.keras')`.\n",
      "  saving_api.save_model(\n"
     ]
    }
   ],
   "source": [
    "model.save(\"../only_four_final_model.h5\")"
   ]
  },
  {
   "cell_type": "markdown",
   "metadata": {},
   "source": [
    "### Evaluating model training metrics"
   ]
  },
  {
   "cell_type": "code",
   "execution_count": 26,
   "metadata": {},
   "outputs": [
    {
     "data": {
      "image/png": "[encoded data removed]",
      "text/plain": [
       "<Figure size 1000x1000 with 2 Axes>"
      ]
     },
     "metadata": {},
     "output_type": "display_data"
    }
   ],
   "source": [
    "figure, (ax1, ax2) = plt.subplots(2, 1, figsize=(10, 10))\n",
    "ax1.plot(history.history[\"accuracy\"], label = \"train acc\", color = \"blue\")\n",
    "ax1.set_title(\"Training Accuracy over Epochs (Higher is better)\")\n",
    "\n",
    "ax2.plot(history.history[\"loss\"], label = \"train loss\", color = \"red\")\n",
    "ax2.set_title(\"Trainig Loss over Epochs (Lower is better)\")\n",
    "plt.show()"
   ]
  },
  {
   "cell_type": "markdown",
   "metadata": {},
   "source": [
    "## Testing Model with Predictions\n",
    "\n",
    "We will test the model based on how well it can generate lyrics from a seed text.\n",
    "\n",
    "First we will create a function that wraps the whole process to two inputs and single output.\n"
   ]
  },
  {
   "cell_type": "code",
   "execution_count": 31,
   "metadata": {},
   "outputs": [],
   "source": [
    "def autoCompleteSong(seedText: str, wordCount: int):\n",
    "    for _ in range(wordCount):\n",
    "        tokenList = tokenizer.texts_to_sequences([seedText])[0]\n",
    "        tokenList = pad_sequences(\n",
    "            [tokenList],\n",
    "            maxlen = maxLen - 1,\n",
    "            padding = \"pre\"\n",
    "        )\n",
    "\n",
    "        predictX = model.predict(\n",
    "            tokenList,\n",
    "            verbose = 0\n",
    "        )\n",
    "        pred = np.argmax(predictX, axis = 1)\n",
    "\n",
    "        output = \"\"\n",
    "        for word, index in tokenizer.word_index.items():\n",
    "            if index == pred:\n",
    "                output = word\n",
    "                break\n",
    "\n",
    "        seedText += \" \" + output\n",
    "    return seedText"
   ]
  },
  {
   "cell_type": "code",
   "execution_count": 33,
   "metadata": {},
   "outputs": [
    {
     "data": {
      "text/plain": [
       "\"I don't know why she's with me waiting to you every night every night every night every night every night coming home to you every night every night every night every night every night every night every night every night every night every night every night every\""
      ]
     },
     "execution_count": 33,
     "metadata": {},
     "output_type": "execute_result"
    }
   ],
   "source": [
    "autoCompleteSong(\"I don't know why she's with me\", 40)"
   ]
  },
  {
   "cell_type": "code",
   "execution_count": 34,
   "metadata": {},
   "outputs": [
    {
     "data": {
      "text/plain": [
       "\"I've been waiting a long time he's been a little time i got myself jonesing and i got no breath to breathe cause it all my own anymore you can shake it all away nothing goes over 'cause i'm all gonna throw twenty memory well i\""
      ]
     },
     "execution_count": 34,
     "metadata": {},
     "output_type": "execute_result"
    }
   ],
   "source": [
    "autoCompleteSong(\"I've been waiting a long time\", 40)"
   ]
  },
  {
   "cell_type": "code",
   "execution_count": 35,
   "metadata": {},
   "outputs": [
    {
     "data": {
      "text/plain": [
       "\"I feel there is a force waste of sex time to bleed soon down and the time is in my mind waiting for you for this place to love real well it's harder fun tried to work tell me the words of your head saying you see that it's right at the end you couldn't try to take the easy and it's take to lose yeah i need it coming for\""
      ]
     },
     "execution_count": 35,
     "metadata": {},
     "output_type": "execute_result"
    }
   ],
   "source": [
    "autoCompleteSong(\"I feel there is a force\", 65)"
   ]
  },
  {
   "cell_type": "markdown",
   "metadata": {},
   "source": [
    "## Misc Listing out values for Reference"
   ]
  },
  {
   "cell_type": "code",
   "execution_count": 36,
   "metadata": {},
   "outputs": [
    {
     "name": "stdout",
     "output_type": "stream",
     "text": [
      "1163\n"
     ]
    }
   ],
   "source": [
    "print(maxLen)"
   ]
  },
  {
   "cell_type": "code",
   "execution_count": 37,
   "metadata": {},
   "outputs": [
    {
     "name": "stdout",
     "output_type": "stream",
     "text": [
      "Model: \"sequential\"\n",
      "_________________________________________________________________\n",
      " Layer (type)                Output Shape              Param #   \n",
      "=================================================================\n",
      " embedding (Embedding)       (None, 1162, 40)          245680    \n",
      "                                                                 \n",
      " bidirectional (Bidirection  (None, 500)               582000    \n",
      " al)                                                             \n",
      "                                                                 \n",
      " dropout (Dropout)           (None, 500)               0         \n",
      "                                                                 \n",
      " dense (Dense)               (None, 6142)              3077142   \n",
      "                                                                 \n",
      "=================================================================\n",
      "Total params: 3904822 (14.90 MB)\n",
      "Trainable params: 3904822 (14.90 MB)\n",
      "Non-trainable params: 0 (0.00 Byte)\n",
      "_________________________________________________________________\n"
     ]
    }
   ],
   "source": [
    "model.summary()"
   ]
  }
 ],
 "metadata": {
  "kernelspec": {
   "display_name": "tf",
   "language": "python",
   "name": "python3"
  },
  "language_info": {
   "codemirror_mode": {
    "name": "ipython",
    "version": 3
   },
   "file_extension": ".py",
   "mimetype": "text/x-python",
   "name": "python",
   "nbconvert_exporter": "python",
   "pygments_lexer": "ipython3",
   "version": "3.10.13"
  }
 },
 "nbformat": 4,
 "nbformat_minor": 2
}
